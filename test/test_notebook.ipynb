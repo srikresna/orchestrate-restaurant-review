{
 "cells": [
  {
   "cell_type": "code",
   "execution_count": 3,
   "metadata": {},
   "outputs": [
    {
     "name": "stdout",
     "output_type": "stream",
     "text": [
      "Bad\n"
     ]
    }
   ],
   "source": [
    "import tensorflow as tf\n",
    "import json\n",
    "import base64\n",
    "import requests\n",
    "\n",
    "\n",
    "def prepare_example(review_text):\n",
    "    # Define the features of your data\n",
    "    feature = {\n",
    "        \"Review\": tf.train.Feature(bytes_list=tf.train.BytesList(value=[review_text.encode()]))\n",
    "    }\n",
    "\n",
    "    # Create an Example\n",
    "    example = tf.train.Example(features=tf.train.Features(feature=feature))\n",
    "\n",
    "    # Serialize the Example to a string\n",
    "    example_str = example.SerializeToString()\n",
    "\n",
    "    # Prepare the JSON data\n",
    "    json_data = {\n",
    "        \"signature_name\": \"serving_default\",\n",
    "        \"instances\": [{\"b64\": base64.b64encode(example_str).decode()}]\n",
    "    }\n",
    "\n",
    "    return json.dumps(json_data)\n",
    "\n",
    "json_data = prepare_example(\"It's so bad! I hate it!\")\n",
    "\n",
    "\n",
    "endpoint = \"https://orchestrate-restaurant-review-production.up.railway.app/v1/models/review-model:predict\"\n",
    "response = requests.post(endpoint, data=json_data)\n",
    "\n",
    "prediction = response.json().get(\"predictions\")\n",
    "if prediction:\n",
    "    prediction_value = prediction[0][0]\n",
    "    result = \"Good\" if prediction_value > 0.6 else \"Bad\"\n",
    "else:\n",
    "    result = \"Error: No predictions found in response.\"\n",
    "\n",
    "print(result)"
   ]
  }
 ],
 "metadata": {
  "kernelspec": {
   "display_name": "mlops",
   "language": "python",
   "name": "python3"
  },
  "language_info": {
   "codemirror_mode": {
    "name": "ipython",
    "version": 3
   },
   "file_extension": ".py",
   "mimetype": "text/x-python",
   "name": "python",
   "nbconvert_exporter": "python",
   "pygments_lexer": "ipython3",
   "version": "3.8.18"
  }
 },
 "nbformat": 4,
 "nbformat_minor": 2
}
